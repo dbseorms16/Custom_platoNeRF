{
 "cells": [
  {
   "cell_type": "code",
   "execution_count": null,
   "id": "d57766b5-7519-46ed-a9c5-9c4892b6e331",
   "metadata": {},
   "outputs": [],
   "source": [
    "#!/usr/bin/env python\n",
    "# Copyright (c) Meta Platforms, Inc. and affiliates.\n",
    "#\n",
    "# This source code is licensed under the MIT license found in the\n",
    "# LICENSE file in the root directory of this source tree.\n",
    "\n",
    "# Implementation is based on original Bounce Flash Lidar repo:\n",
    "# https://github.com/co24401/BounceFlashLidar"
   ]
  },
  {
   "cell_type": "code",
   "execution_count": null,
   "id": "42d1ae20-d02d-4fa3-a17b-c28c1cca64c0",
   "metadata": {},
   "outputs": [],
   "source": [
    "import matplotlib.pyplot as plt \n",
    "import math\n",
    "import numpy as np\n",
    "import pandas as pd\n",
    "import plotly\n",
    "import plotly.express as px\n",
    "import plotly.graph_objs as go\n",
    "import time\n",
    "from copy import deepcopy\n",
    "from math import sqrt, cos, sin, tan, atan, radians\n",
    "\n",
    "from ray_tracing import visualize_probablistic "
   ]
  },
  {
   "cell_type": "code",
   "execution_count": null,
   "id": "5623a77f-2815-458b-8008-d4c68fcb7bf1",
   "metadata": {},
   "outputs": [],
   "source": [
    "class voxelGrid():\n",
    "    def __init__(self, x_lims, y_lims, z_lims, num_x, num_y, num_z):\n",
    "        self.x_lims = x_lims\n",
    "        self.y_lims = y_lims\n",
    "        self.z_lims = z_lims\n",
    "        self.num_x = num_x\n",
    "        self.num_y = num_y\n",
    "        self.num_z = num_z\n",
    "        self.volume = np.zeros((num_x, num_y, num_z))"
   ]
  },
  {
   "cell_type": "code",
   "execution_count": null,
   "id": "a9ecddd2-db85-4af6-bf98-be8a9535be95",
   "metadata": {},
   "outputs": [],
   "source": [
    "fname = \"chair\"\n",
    "data = np.load(\"../logs/bfshadows_\" + fname + \"_100.npy\", allow_pickle=True).item()\n",
    "outside_voxel = data[\"outside_voxel\"]\n",
    "inside_voxel = data[\"inside_voxel\"]\n",
    "PO = data[\"PO\"]\n",
    "testDets = data[\"testDets\"]\n",
    "testLas = data[\"testLas\"]\n",
    "params = data[\"params\"]\n",
    "num_x = params[0]\n",
    "num_y = params[1]\n",
    "num_z = params[2]\n",
    "eta = params[3]\n",
    "xi = params[4]\n",
    "p0 = params[5]\n",
    "p1 = params[6]\n",
    "\n",
    "fin_pc = np.load(\"../logs/bfpc_{}.npy\".format(fname), allow_pickle=True).item()['pc']\n",
    "fin_pc_flattened = np.load(\"../logs/bfpc_{}.npy\".format(fname), allow_pickle=True).item()['flattened']"
   ]
  },
  {
   "cell_type": "code",
   "execution_count": null,
   "id": "ff74aa80-a20e-4bb0-bb72-a4d304d401b7",
   "metadata": {},
   "outputs": [],
   "source": [
    "T = 0.5 # Probability threshold to decide that voxel is occupied --> usually only play with T\n",
    "\n",
    "volume, probability_volume = visualize_probablistic(inside_voxel, outside_voxel, PO, T, testLas, testDets, False)\n",
    "\n",
    "voxel_x_size = (inside_voxel.x_lims[1] - inside_voxel.x_lims[0]) / inside_voxel.num_x\n",
    "voxel_y_size = (inside_voxel.y_lims[1] - inside_voxel.y_lims[0]) / inside_voxel.num_y\n",
    "voxel_z_size = (inside_voxel.z_lims[1] - inside_voxel.z_lims[0]) / inside_voxel.num_z\n",
    "fill_indices = np.nonzero(volume)\n",
    "\n",
    "xx = inside_voxel.x_lims[0] + voxel_x_size * (fill_indices[0])\n",
    "yy = inside_voxel.y_lims[0] + voxel_y_size * (fill_indices[1])\n",
    "zz = inside_voxel.z_lims[0] + voxel_z_size * (fill_indices[2])"
   ]
  },
  {
   "cell_type": "code",
   "execution_count": null,
   "id": "6786b0ee-f7cd-49a7-b237-8cdcbc8c560f",
   "metadata": {},
   "outputs": [],
   "source": [
    "# VISUALIZE POINT CLOUD --> ADJUST T UNTIL IT LOOKS GOOD\n",
    "testShape = np.transpose(np.stack((xx, yy, zz), axis=0))  \n",
    "plotly.offline.init_notebook_mode()\n",
    "# Configure the trace.\n",
    "points_from_2b = go.Scatter3d(\n",
    "    x=np.ndarray.flatten(fin_pc_flattened[:,0]),  # <-- Put your data instead\n",
    "    y=np.ndarray.flatten(fin_pc_flattened[:,1]),  # <-- Put your data instead\n",
    "    z=np.ndarray.flatten(fin_pc_flattened[:,2]),  # <-- Put your data instead\n",
    "    mode='markers',\n",
    "    marker={\n",
    "        'size': 2,\n",
    "        'opacity': 1,\n",
    "    }\n",
    ")\n",
    "\n",
    "points_from_shadow = go.Scatter3d(\n",
    "    x=np.ndarray.flatten(xx), \n",
    "    y=np.ndarray.flatten(yy),  \n",
    "    z=np.ndarray.flatten(zz),  \n",
    "    mode='markers',\n",
    "    marker={\n",
    "        'size': 2,\n",
    "        'opacity': 1,\n",
    "    }\n",
    ")\n",
    "\n",
    "# Configure the layout.\n",
    "layout = go.Layout(\n",
    "    margin={'l': 0, 'r': 0, 'b': 0, 't': 0}\n",
    ")\n",
    "data = [points_from_shadow]\n",
    "plot_figure = go.Figure(data=data, layout=layout)\n",
    "\n",
    "# Render the plot.\n",
    "camera = dict(\n",
    "    up=dict(x=0, y=1, z=0),\n",
    "    center=dict(x=0, y=0, z=0),\n",
    "    eye=dict(x=-0.7, y=1.2, z=-2)\n",
    ")\n",
    "plot_figure.update_layout(scene_camera=camera)\n",
    "plotly.offline.iplot(plot_figure)"
   ]
  },
  {
   "cell_type": "code",
   "execution_count": null,
   "id": "db744747-9b37-4fcd-814a-fc427716f408",
   "metadata": {},
   "outputs": [],
   "source": [
    "# SAVE FINAL POINT CLOUD\n",
    "shadow_pc = np.stack([xx,yy,zz],axis=1)\n",
    "all_points = np.concatenate([fin_pc_flattened, shadow_pc],axis=0)\n",
    "np.save(\"../logs/bf_final_pc_{}.npy\".format(fname), all_points)\n",
    "print(\"Saved {} with points {}.\".format(fname, all_points.shape))"
   ]
  }
 ],
 "metadata": {
  "kernelspec": {
   "display_name": "nerf",
   "language": "python",
   "name": "nerf"
  },
  "language_info": {
   "codemirror_mode": {
    "name": "ipython",
    "version": 3
   },
   "file_extension": ".py",
   "mimetype": "text/x-python",
   "name": "python",
   "nbconvert_exporter": "python",
   "pygments_lexer": "ipython3",
   "version": "3.10.9"
  }
 },
 "nbformat": 4,
 "nbformat_minor": 5
}
